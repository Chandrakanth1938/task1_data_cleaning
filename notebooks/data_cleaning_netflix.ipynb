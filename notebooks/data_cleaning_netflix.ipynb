{
 "cells": [
  {
   "cell_type": "markdown",
   "id": "2af07085",
   "metadata": {},
   "source": [
    "# Netflix Data Cleaning Task"
   ]
  },
  {
   "cell_type": "markdown",
   "id": "1108f390",
   "metadata": {},
   "source": [
    "### Step 1: Import Libraries and Load Dataset"
   ]
  },
  {
   "cell_type": "code",
   "execution_count": null,
   "id": "0d679364",
   "metadata": {},
   "outputs": [],
   "source": [
    "\n",
    "import pandas as pd\n",
    "\n",
    "# Load dataset\n",
    "df = pd.read_csv(\"../dataset/netflix_titles.csv\")\n",
    "print(df.shape)\n",
    "df.head()\n"
   ]
  },
  {
   "cell_type": "markdown",
   "id": "d2ea36ba",
   "metadata": {},
   "source": [
    "### Step 2: Handle Missing Values"
   ]
  },
  {
   "cell_type": "code",
   "execution_count": null,
   "id": "52abf009",
   "metadata": {},
   "outputs": [],
   "source": [
    "\n",
    "for col in [\"director\", \"cast\", \"country\", \"rating\", \"duration\"]:\n",
    "    df[col] = df[col].fillna(\"Unknown\")\n",
    "\n",
    "df[\"date_added\"] = df[\"date_added\"].fillna(df[\"date_added\"].mode()[0])\n",
    "df.isnull().sum()\n"
   ]
  },
  {
   "cell_type": "markdown",
   "id": "3fe2543d",
   "metadata": {},
   "source": [
    "### Step 3: Remove Duplicates"
   ]
  },
  {
   "cell_type": "code",
   "execution_count": null,
   "id": "b750816e",
   "metadata": {},
   "outputs": [],
   "source": [
    "\n",
    "print(\"Before:\", df.shape)\n",
    "df = df.drop_duplicates()\n",
    "print(\"After:\", df.shape)\n"
   ]
  },
  {
   "cell_type": "markdown",
   "id": "bf5e3dab",
   "metadata": {},
   "source": [
    "### Step 4: Standardize Text Values"
   ]
  },
  {
   "cell_type": "code",
   "execution_count": null,
   "id": "efc8d048",
   "metadata": {},
   "outputs": [],
   "source": [
    "\n",
    "for col in [\"type\", \"country\", \"rating\"]:\n",
    "    df[col] = df[col].str.strip().str.lower()\n",
    "df.head()\n"
   ]
  },
  {
   "cell_type": "markdown",
   "id": "73160614",
   "metadata": {},
   "source": [
    "### Step 5: Convert Date Formats and Data Types"
   ]
  },
  {
   "cell_type": "code",
   "execution_count": null,
   "id": "c946c5dc",
   "metadata": {},
   "outputs": [],
   "source": [
    "\n",
    "df[\"date_added\"] = pd.to_datetime(df[\"date_added\"], errors=\"coerce\")\n",
    "df[\"release_year\"] = df[\"release_year\"].astype(int)\n",
    "df.dtypes\n"
   ]
  },
  {
   "cell_type": "markdown",
   "id": "40eeb898",
   "metadata": {},
   "source": [
    "### Step 6: Rename Columns"
   ]
  },
  {
   "cell_type": "code",
   "execution_count": null,
   "id": "66ad6d91",
   "metadata": {},
   "outputs": [],
   "source": [
    "\n",
    "df.columns = df.columns.str.strip().str.lower().str.replace(\" \", \"_\")\n",
    "df.head()\n"
   ]
  },
  {
   "cell_type": "markdown",
   "id": "256ea435",
   "metadata": {},
   "source": [
    "### Step 7: Save Cleaned Dataset"
   ]
  },
  {
   "cell_type": "code",
   "execution_count": null,
   "id": "991fc891",
   "metadata": {},
   "outputs": [],
   "source": [
    "\n",
    "df.to_csv(\"../dataset/netflix_titles_cleaned.csv\", index=False)\n",
    "print(\"Cleaned dataset saved!\")\n"
   ]
  }
 ],
 "metadata": {},
 "nbformat": 4,
 "nbformat_minor": 5
}
